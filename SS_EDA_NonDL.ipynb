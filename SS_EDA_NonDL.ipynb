{
 "cells": [
  {
   "cell_type": "code",
   "execution_count": 1,
   "metadata": {},
   "outputs": [
    {
     "name": "stderr",
     "output_type": "stream",
     "text": [
      "/Users/ctsuser1/anaconda3/lib/python3.7/site-packages/sklearn/utils/deprecation.py:143: FutureWarning: The sklearn.datasets.samples_generator module is  deprecated in version 0.22 and will be removed in version 0.24. The corresponding classes / functions should instead be imported from sklearn.datasets. Anything that cannot be imported from sklearn.datasets is now part of the private API.\n",
      "  warnings.warn(message, FutureWarning)\n"
     ]
    }
   ],
   "source": [
    "import pandas as pd\n",
    "import numpy as np\n",
    "from pathlib import Path\n",
    "\n",
    "#for visualizing null values\n",
    "#import missingno as msno\n",
    "\n",
    "#for data visualization\n",
    "import matplotlib.pyplot as plt\n",
    "import seaborn as sns\n",
    "\n",
    "plt.rcParams[\"figure.figsize\"] = \"25,10\"\n",
    "plt.rcParams[\"legend.fontsize\"] = 16\n",
    "plt.rcParams[\"axes.labelsize\"] = 16\n",
    "\n",
    "#import statmodels: this is another library which has similar funtionas as sklearn\n",
    "import statsmodels\n",
    "import statsmodels.api as sm\n",
    "import statsmodels.formula.api as smf\n",
    "\n",
    "#import sklearn important functions\n",
    "from sklearn.model_selection import train_test_split\n",
    "from sklearn.metrics import mean_squared_error, r2_score\n",
    "from sklearn.linear_model import LogisticRegression\n",
    "from sklearn.metrics import confusion_matrix #needed for classification problems\n",
    "from sklearn.metrics import classification_report\n",
    "from sklearn.metrics import roc_curve #receiver operating charecteristic curve for binary classifier model diagnosis\n",
    "from sklearn.metrics import roc_auc_score\n",
    "from sklearn.metrics import accuracy_score\n",
    "from sklearn.neighbors import KNeighborsClassifier\n",
    "from sklearn.ensemble import RandomForestClassifier\n",
    "from sklearn.svm import SVC\n",
    "from sklearn import svm\n",
    "from sklearn.cluster import DBSCAN\n",
    "from sklearn import metrics\n",
    "from sklearn.datasets.samples_generator import make_blobs\n",
    "from sklearn.preprocessing import StandardScaler\n",
    "from sklearn.discriminant_analysis import LinearDiscriminantAnalysis, QuadraticDiscriminantAnalysis\n",
    "\n",
    "#import python based open-source system for mathematical , science and engineering functions\n",
    "import scipy \n",
    "\n",
    "#ignoring warnings\n",
    "import warnings\n",
    "warnings.filterwarnings(\"ignore\")"
   ]
  },
  {
   "cell_type": "code",
   "execution_count": 2,
   "metadata": {},
   "outputs": [],
   "source": [
    "\n",
    "data_dir = Path('output')\n",
    "\n",
    "full_df = pd.concat(\n",
    "    pd.read_parquet(parquet_file)\n",
    "    for parquet_file in data_dir.glob('*.parquet')\n",
    ")"
   ]
  },
  {
   "cell_type": "code",
   "execution_count": 3,
   "metadata": {},
   "outputs": [
    {
     "name": "stdout",
     "output_type": "stream",
     "text": [
      "<class 'pandas.core.frame.DataFrame'>\n",
      "Int64Index: 237797 entries, 0 to 1020\n",
      "Data columns (total 6 columns):\n",
      " #   Column             Non-Null Count   Dtype         \n",
      "---  ------             --------------   -----         \n",
      " 0   timestamp          171179 non-null  datetime64[ns]\n",
      " 1   annotation         237797 non-null  object        \n",
      " 2   EEG_Fpz-Cz_uV      237797 non-null  object        \n",
      " 3   EEG_Pz-Oz_uV       237797 non-null  object        \n",
      " 4   EOG_horizontal_uV  237797 non-null  object        \n",
      " 5   subject            66618 non-null   object        \n",
      "dtypes: datetime64[ns](1), object(5)\n",
      "memory usage: 12.7+ MB\n"
     ]
    }
   ],
   "source": [
    "full_df.info()"
   ]
  },
  {
   "cell_type": "code",
   "execution_count": 4,
   "metadata": {},
   "outputs": [],
   "source": [
    "# full_df.describe(include = 'all').transpose()"
   ]
  },
  {
   "cell_type": "code",
   "execution_count": 5,
   "metadata": {},
   "outputs": [
    {
     "data": {
      "text/html": [
       "<div>\n",
       "<style scoped>\n",
       "    .dataframe tbody tr th:only-of-type {\n",
       "        vertical-align: middle;\n",
       "    }\n",
       "\n",
       "    .dataframe tbody tr th {\n",
       "        vertical-align: top;\n",
       "    }\n",
       "\n",
       "    .dataframe thead th {\n",
       "        text-align: right;\n",
       "    }\n",
       "</style>\n",
       "<table border=\"1\" class=\"dataframe\">\n",
       "  <thead>\n",
       "    <tr style=\"text-align: right;\">\n",
       "      <th></th>\n",
       "      <th>timestamp</th>\n",
       "      <th>annotation</th>\n",
       "      <th>EEG_Fpz-Cz_uV</th>\n",
       "      <th>EEG_Pz-Oz_uV</th>\n",
       "      <th>EOG_horizontal_uV</th>\n",
       "      <th>subject</th>\n",
       "    </tr>\n",
       "  </thead>\n",
       "  <tbody>\n",
       "    <tr>\n",
       "      <th>0</th>\n",
       "      <td>1989-07-21 01:30:00</td>\n",
       "      <td>2</td>\n",
       "      <td>[24.228571428571424, 30.93333333333333, 32.355...</td>\n",
       "      <td>[9.736263736263734, 2.887912087912086, -4.2307...</td>\n",
       "      <td>[-0.22759462759464258, -0.22759462759464258, 1...</td>\n",
       "      <td>NaN</td>\n",
       "    </tr>\n",
       "    <tr>\n",
       "      <th>1</th>\n",
       "      <td>1989-07-21 01:30:30</td>\n",
       "      <td>2</td>\n",
       "      <td>[42.41269841269841, 26.463492063492062, 17.015...</td>\n",
       "      <td>[2.347252747252745, 8.474725274725273, 11.8989...</td>\n",
       "      <td>[52.119169719169705, 49.84322344322343, 33.001...</td>\n",
       "      <td>NaN</td>\n",
       "    </tr>\n",
       "    <tr>\n",
       "      <th>2</th>\n",
       "      <td>1989-07-21 01:31:00</td>\n",
       "      <td>2</td>\n",
       "      <td>[0.1523809523809522, 5.536507936507936, 4.5206...</td>\n",
       "      <td>[-2.6087912087912106, -2.06813186813187, -3.69...</td>\n",
       "      <td>[5.689865689865674, 3.4139194139193982, 4.7794...</td>\n",
       "      <td>NaN</td>\n",
       "    </tr>\n",
       "    <tr>\n",
       "      <th>3</th>\n",
       "      <td>1989-07-21 01:31:30</td>\n",
       "      <td>2</td>\n",
       "      <td>[-6.044444444444444, -5.841269841269842, 0.965...</td>\n",
       "      <td>[-12.971428571428573, -8.195604395604397, -7.8...</td>\n",
       "      <td>[-26.173382173382187, -26.173382173382187, -48...</td>\n",
       "      <td>NaN</td>\n",
       "    </tr>\n",
       "    <tr>\n",
       "      <th>4</th>\n",
       "      <td>1989-07-21 01:32:00</td>\n",
       "      <td>2</td>\n",
       "      <td>[-10.20952380952381, -7.873015873015873, -11.6...</td>\n",
       "      <td>[7.483516483516481, 5.771428571428569, 5.95164...</td>\n",
       "      <td>[5.23467643467642, 3.869108669108654, 3.413919...</td>\n",
       "      <td>NaN</td>\n",
       "    </tr>\n",
       "    <tr>\n",
       "      <th>...</th>\n",
       "      <td>...</td>\n",
       "      <td>...</td>\n",
       "      <td>...</td>\n",
       "      <td>...</td>\n",
       "      <td>...</td>\n",
       "      <td>...</td>\n",
       "    </tr>\n",
       "    <tr>\n",
       "      <th>1016</th>\n",
       "      <td>1989-07-13 08:20:00</td>\n",
       "      <td>W</td>\n",
       "      <td>[14.266178266178276, 11.262515262515274, 12.46...</td>\n",
       "      <td>[5.685714285714295, 5.33113553113554, 10.64981...</td>\n",
       "      <td>[51.90989010989016, 46.101343101343154, 38.633...</td>\n",
       "      <td>NaN</td>\n",
       "    </tr>\n",
       "    <tr>\n",
       "      <th>1017</th>\n",
       "      <td>1989-07-13 08:20:30</td>\n",
       "      <td>W</td>\n",
       "      <td>[51.81196581196583, 52.112332112332126, 40.898...</td>\n",
       "      <td>[11.358974358974368, 10.295238095238105, 10.82...</td>\n",
       "      <td>[128.2507936507937, 125.76141636141641, 132.39...</td>\n",
       "      <td>NaN</td>\n",
       "    </tr>\n",
       "    <tr>\n",
       "      <th>1018</th>\n",
       "      <td>1989-07-13 08:21:00</td>\n",
       "      <td>W</td>\n",
       "      <td>[4.454212454212465, 8.35897435897437, -0.65201...</td>\n",
       "      <td>[7.192673992674002, 2.05128205128206, 3.469597...</td>\n",
       "      <td>[-19.037362637362587, -19.037362637362587, -12...</td>\n",
       "      <td>NaN</td>\n",
       "    </tr>\n",
       "    <tr>\n",
       "      <th>1019</th>\n",
       "      <td>1989-07-13 08:21:30</td>\n",
       "      <td>W</td>\n",
       "      <td>[28.683760683760696, 29.484737484737494, 24.57...</td>\n",
       "      <td>[-0.6080586080585995, -2.5582417582417496, -2....</td>\n",
       "      <td>[37.38852258852264, 25.35653235653241, 25.3565...</td>\n",
       "      <td>NaN</td>\n",
       "    </tr>\n",
       "    <tr>\n",
       "      <th>1020</th>\n",
       "      <td>1989-07-13 08:22:00</td>\n",
       "      <td>W</td>\n",
       "      <td>[0.9499389499389604, 13.365079365079374, 15.56...</td>\n",
       "      <td>[13.841025641025649, 7.1040293040293125, 7.635...</td>\n",
       "      <td>[196.29377289377297, 178.45323565323568, 172.6...</td>\n",
       "      <td>NaN</td>\n",
       "    </tr>\n",
       "  </tbody>\n",
       "</table>\n",
       "<p>237797 rows × 6 columns</p>\n",
       "</div>"
      ],
      "text/plain": [
       "               timestamp annotation  \\\n",
       "0    1989-07-21 01:30:00          2   \n",
       "1    1989-07-21 01:30:30          2   \n",
       "2    1989-07-21 01:31:00          2   \n",
       "3    1989-07-21 01:31:30          2   \n",
       "4    1989-07-21 01:32:00          2   \n",
       "...                  ...        ...   \n",
       "1016 1989-07-13 08:20:00          W   \n",
       "1017 1989-07-13 08:20:30          W   \n",
       "1018 1989-07-13 08:21:00          W   \n",
       "1019 1989-07-13 08:21:30          W   \n",
       "1020 1989-07-13 08:22:00          W   \n",
       "\n",
       "                                          EEG_Fpz-Cz_uV  \\\n",
       "0     [24.228571428571424, 30.93333333333333, 32.355...   \n",
       "1     [42.41269841269841, 26.463492063492062, 17.015...   \n",
       "2     [0.1523809523809522, 5.536507936507936, 4.5206...   \n",
       "3     [-6.044444444444444, -5.841269841269842, 0.965...   \n",
       "4     [-10.20952380952381, -7.873015873015873, -11.6...   \n",
       "...                                                 ...   \n",
       "1016  [14.266178266178276, 11.262515262515274, 12.46...   \n",
       "1017  [51.81196581196583, 52.112332112332126, 40.898...   \n",
       "1018  [4.454212454212465, 8.35897435897437, -0.65201...   \n",
       "1019  [28.683760683760696, 29.484737484737494, 24.57...   \n",
       "1020  [0.9499389499389604, 13.365079365079374, 15.56...   \n",
       "\n",
       "                                           EEG_Pz-Oz_uV  \\\n",
       "0     [9.736263736263734, 2.887912087912086, -4.2307...   \n",
       "1     [2.347252747252745, 8.474725274725273, 11.8989...   \n",
       "2     [-2.6087912087912106, -2.06813186813187, -3.69...   \n",
       "3     [-12.971428571428573, -8.195604395604397, -7.8...   \n",
       "4     [7.483516483516481, 5.771428571428569, 5.95164...   \n",
       "...                                                 ...   \n",
       "1016  [5.685714285714295, 5.33113553113554, 10.64981...   \n",
       "1017  [11.358974358974368, 10.295238095238105, 10.82...   \n",
       "1018  [7.192673992674002, 2.05128205128206, 3.469597...   \n",
       "1019  [-0.6080586080585995, -2.5582417582417496, -2....   \n",
       "1020  [13.841025641025649, 7.1040293040293125, 7.635...   \n",
       "\n",
       "                                      EOG_horizontal_uV subject  \n",
       "0     [-0.22759462759464258, -0.22759462759464258, 1...     NaN  \n",
       "1     [52.119169719169705, 49.84322344322343, 33.001...     NaN  \n",
       "2     [5.689865689865674, 3.4139194139193982, 4.7794...     NaN  \n",
       "3     [-26.173382173382187, -26.173382173382187, -48...     NaN  \n",
       "4     [5.23467643467642, 3.869108669108654, 3.413919...     NaN  \n",
       "...                                                 ...     ...  \n",
       "1016  [51.90989010989016, 46.101343101343154, 38.633...     NaN  \n",
       "1017  [128.2507936507937, 125.76141636141641, 132.39...     NaN  \n",
       "1018  [-19.037362637362587, -19.037362637362587, -12...     NaN  \n",
       "1019  [37.38852258852264, 25.35653235653241, 25.3565...     NaN  \n",
       "1020  [196.29377289377297, 178.45323565323568, 172.6...     NaN  \n",
       "\n",
       "[237797 rows x 6 columns]"
      ]
     },
     "execution_count": 5,
     "metadata": {},
     "output_type": "execute_result"
    }
   ],
   "source": [
    "full_df"
   ]
  },
  {
   "cell_type": "code",
   "execution_count": 6,
   "metadata": {
    "scrolled": true
   },
   "outputs": [
    {
     "name": "stdout",
     "output_type": "stream",
     "text": [
      "Starting with 237797 epochs\n",
      "Finsihed processing data, 237422 epochs in total\n"
     ]
    },
    {
     "data": {
      "text/html": [
       "<div>\n",
       "<style scoped>\n",
       "    .dataframe tbody tr th:only-of-type {\n",
       "        vertical-align: middle;\n",
       "    }\n",
       "\n",
       "    .dataframe tbody tr th {\n",
       "        vertical-align: top;\n",
       "    }\n",
       "\n",
       "    .dataframe thead tr th {\n",
       "        text-align: left;\n",
       "    }\n",
       "\n",
       "    .dataframe thead tr:last-of-type th {\n",
       "        text-align: right;\n",
       "    }\n",
       "</style>\n",
       "<table border=\"1\" class=\"dataframe\">\n",
       "  <thead>\n",
       "    <tr>\n",
       "      <th></th>\n",
       "      <th>timestamp</th>\n",
       "      <th>EEG_Fpz-Cz_uV</th>\n",
       "      <th>EEG_Pz-Oz_uV</th>\n",
       "      <th>EOG_horizontal_uV</th>\n",
       "      <th>subject</th>\n",
       "    </tr>\n",
       "    <tr>\n",
       "      <th></th>\n",
       "      <th>count</th>\n",
       "      <th>count</th>\n",
       "      <th>count</th>\n",
       "      <th>count</th>\n",
       "      <th>count</th>\n",
       "    </tr>\n",
       "    <tr>\n",
       "      <th>annotation</th>\n",
       "      <th></th>\n",
       "      <th></th>\n",
       "      <th></th>\n",
       "      <th></th>\n",
       "      <th></th>\n",
       "    </tr>\n",
       "  </thead>\n",
       "  <tbody>\n",
       "    <tr>\n",
       "      <th>0</th>\n",
       "      <td>22019</td>\n",
       "      <td>30012</td>\n",
       "      <td>30012</td>\n",
       "      <td>30012</td>\n",
       "      <td>7993</td>\n",
       "    </tr>\n",
       "    <tr>\n",
       "      <th>1</th>\n",
       "      <td>18868</td>\n",
       "      <td>21737</td>\n",
       "      <td>21737</td>\n",
       "      <td>21737</td>\n",
       "      <td>2869</td>\n",
       "    </tr>\n",
       "    <tr>\n",
       "      <th>2</th>\n",
       "      <td>59294</td>\n",
       "      <td>77534</td>\n",
       "      <td>77534</td>\n",
       "      <td>77534</td>\n",
       "      <td>18240</td>\n",
       "    </tr>\n",
       "    <tr>\n",
       "      <th>3</th>\n",
       "      <td>10639</td>\n",
       "      <td>16136</td>\n",
       "      <td>16136</td>\n",
       "      <td>16136</td>\n",
       "      <td>5497</td>\n",
       "    </tr>\n",
       "    <tr>\n",
       "      <th>4</th>\n",
       "      <td>60064</td>\n",
       "      <td>92003</td>\n",
       "      <td>92003</td>\n",
       "      <td>92003</td>\n",
       "      <td>31939</td>\n",
       "    </tr>\n",
       "  </tbody>\n",
       "</table>\n",
       "</div>"
      ],
      "text/plain": [
       "           timestamp EEG_Fpz-Cz_uV EEG_Pz-Oz_uV EOG_horizontal_uV subject\n",
       "               count         count        count             count   count\n",
       "annotation                                                               \n",
       "0              22019         30012        30012             30012    7993\n",
       "1              18868         21737        21737             21737    2869\n",
       "2              59294         77534        77534             77534   18240\n",
       "3              10639         16136        16136             16136    5497\n",
       "4              60064         92003        92003             92003   31939"
      ]
     },
     "execution_count": 6,
     "metadata": {},
     "output_type": "execute_result"
    }
   ],
   "source": [
    "DATAPOINTS_IN_EPOCH = 3000  # 30 sec * 100Hz\n",
    "\n",
    "def preprocess_data(df):\n",
    "    '''\n",
    "        stages are one of: W, R, 1, 2, 3, 4, M (Movement time) and ? (not scored)\n",
    "    '''\n",
    "    print(\"Starting with {} epochs\".format(len(df)))\n",
    "    # combine N3 and N4 into N3 stage\n",
    "    df.loc[df['annotation'] == '4', 'annotation'] = '3'\n",
    "\n",
    "    # exclude 'M' and '?' epochs\n",
    "    df = df.loc[df['annotation'] != '?']\n",
    "    df = df.loc[df['annotation'] != 'M']\n",
    "    \n",
    "    # remove epoches that don't have all 3000 data points\n",
    "    df = df.loc[df['EEG_Fpz-Cz_uV'].map(len) == DATAPOINTS_IN_EPOCH]\n",
    "    \n",
    "    # TODO, not sure yet if this is needed:\n",
    "    # remove 'W' stages that are more than 30 mibutes from any sleep stage\n",
    "    \n",
    "    # encode class label\n",
    "    class2idx = {\n",
    "        'R': 0,\n",
    "        '1': 1,\n",
    "        '2': 2,\n",
    "        '3': 3,\n",
    "        'W': 4,\n",
    "    }\n",
    "    df['annotation'] = df['annotation'].replace(class2idx)\n",
    "    print(\"Finsihed processing data, {} epochs in total\".format(len(df)))\n",
    "    return df\n",
    "\n",
    "\n",
    "def get_label_stats(df):\n",
    "    return df.groupby(['annotation']).agg(['count'])\n",
    "    \n",
    "full_df = preprocess_data(full_df)\n",
    "get_label_stats(full_df)"
   ]
  },
  {
   "cell_type": "code",
   "execution_count": 7,
   "metadata": {},
   "outputs": [
    {
     "data": {
      "text/html": [
       "<div>\n",
       "<style scoped>\n",
       "    .dataframe tbody tr th:only-of-type {\n",
       "        vertical-align: middle;\n",
       "    }\n",
       "\n",
       "    .dataframe tbody tr th {\n",
       "        vertical-align: top;\n",
       "    }\n",
       "\n",
       "    .dataframe thead th {\n",
       "        text-align: right;\n",
       "    }\n",
       "</style>\n",
       "<table border=\"1\" class=\"dataframe\">\n",
       "  <thead>\n",
       "    <tr style=\"text-align: right;\">\n",
       "      <th></th>\n",
       "      <th>annotation</th>\n",
       "      <th>EEG_Fpz-Cz_uV</th>\n",
       "    </tr>\n",
       "  </thead>\n",
       "  <tbody>\n",
       "    <tr>\n",
       "      <th>0</th>\n",
       "      <td>2</td>\n",
       "      <td>[24.228571428571424, 30.93333333333333, 32.355...</td>\n",
       "    </tr>\n",
       "    <tr>\n",
       "      <th>1</th>\n",
       "      <td>2</td>\n",
       "      <td>[42.41269841269841, 26.463492063492062, 17.015...</td>\n",
       "    </tr>\n",
       "    <tr>\n",
       "      <th>2</th>\n",
       "      <td>2</td>\n",
       "      <td>[0.1523809523809522, 5.536507936507936, 4.5206...</td>\n",
       "    </tr>\n",
       "    <tr>\n",
       "      <th>3</th>\n",
       "      <td>2</td>\n",
       "      <td>[-6.044444444444444, -5.841269841269842, 0.965...</td>\n",
       "    </tr>\n",
       "    <tr>\n",
       "      <th>4</th>\n",
       "      <td>2</td>\n",
       "      <td>[-10.20952380952381, -7.873015873015873, -11.6...</td>\n",
       "    </tr>\n",
       "    <tr>\n",
       "      <th>...</th>\n",
       "      <td>...</td>\n",
       "      <td>...</td>\n",
       "    </tr>\n",
       "    <tr>\n",
       "      <th>1016</th>\n",
       "      <td>4</td>\n",
       "      <td>[14.266178266178276, 11.262515262515274, 12.46...</td>\n",
       "    </tr>\n",
       "    <tr>\n",
       "      <th>1017</th>\n",
       "      <td>4</td>\n",
       "      <td>[51.81196581196583, 52.112332112332126, 40.898...</td>\n",
       "    </tr>\n",
       "    <tr>\n",
       "      <th>1018</th>\n",
       "      <td>4</td>\n",
       "      <td>[4.454212454212465, 8.35897435897437, -0.65201...</td>\n",
       "    </tr>\n",
       "    <tr>\n",
       "      <th>1019</th>\n",
       "      <td>4</td>\n",
       "      <td>[28.683760683760696, 29.484737484737494, 24.57...</td>\n",
       "    </tr>\n",
       "    <tr>\n",
       "      <th>1020</th>\n",
       "      <td>4</td>\n",
       "      <td>[0.9499389499389604, 13.365079365079374, 15.56...</td>\n",
       "    </tr>\n",
       "  </tbody>\n",
       "</table>\n",
       "<p>237422 rows × 2 columns</p>\n",
       "</div>"
      ],
      "text/plain": [
       "      annotation                                      EEG_Fpz-Cz_uV\n",
       "0              2  [24.228571428571424, 30.93333333333333, 32.355...\n",
       "1              2  [42.41269841269841, 26.463492063492062, 17.015...\n",
       "2              2  [0.1523809523809522, 5.536507936507936, 4.5206...\n",
       "3              2  [-6.044444444444444, -5.841269841269842, 0.965...\n",
       "4              2  [-10.20952380952381, -7.873015873015873, -11.6...\n",
       "...          ...                                                ...\n",
       "1016           4  [14.266178266178276, 11.262515262515274, 12.46...\n",
       "1017           4  [51.81196581196583, 52.112332112332126, 40.898...\n",
       "1018           4  [4.454212454212465, 8.35897435897437, -0.65201...\n",
       "1019           4  [28.683760683760696, 29.484737484737494, 24.57...\n",
       "1020           4  [0.9499389499389604, 13.365079365079374, 15.56...\n",
       "\n",
       "[237422 rows x 2 columns]"
      ]
     },
     "execution_count": 7,
     "metadata": {},
     "output_type": "execute_result"
    }
   ],
   "source": [
    "# data_tst = full_df[(full_df.subject == \"SC4001E0\")][['annotation','EEG_Fpz-Cz_uV']]\n",
    "data_test = full_df[['annotation','EEG_Fpz-Cz_uV']]\n",
    "\n",
    "test = data_test.to_numpy()\n",
    "\n",
    "data_test"
   ]
  },
  {
   "cell_type": "code",
   "execution_count": 8,
   "metadata": {},
   "outputs": [
    {
     "data": {
      "text/html": [
       "<div>\n",
       "<style scoped>\n",
       "    .dataframe tbody tr th:only-of-type {\n",
       "        vertical-align: middle;\n",
       "    }\n",
       "\n",
       "    .dataframe tbody tr th {\n",
       "        vertical-align: top;\n",
       "    }\n",
       "\n",
       "    .dataframe thead th {\n",
       "        text-align: right;\n",
       "    }\n",
       "</style>\n",
       "<table border=\"1\" class=\"dataframe\">\n",
       "  <thead>\n",
       "    <tr style=\"text-align: right;\">\n",
       "      <th></th>\n",
       "      <th>annotation</th>\n",
       "    </tr>\n",
       "  </thead>\n",
       "  <tbody>\n",
       "    <tr>\n",
       "      <th>0</th>\n",
       "      <td>2</td>\n",
       "    </tr>\n",
       "    <tr>\n",
       "      <th>1</th>\n",
       "      <td>2</td>\n",
       "    </tr>\n",
       "    <tr>\n",
       "      <th>2</th>\n",
       "      <td>2</td>\n",
       "    </tr>\n",
       "    <tr>\n",
       "      <th>3</th>\n",
       "      <td>2</td>\n",
       "    </tr>\n",
       "    <tr>\n",
       "      <th>4</th>\n",
       "      <td>2</td>\n",
       "    </tr>\n",
       "    <tr>\n",
       "      <th>...</th>\n",
       "      <td>...</td>\n",
       "    </tr>\n",
       "    <tr>\n",
       "      <th>1016</th>\n",
       "      <td>4</td>\n",
       "    </tr>\n",
       "    <tr>\n",
       "      <th>1017</th>\n",
       "      <td>4</td>\n",
       "    </tr>\n",
       "    <tr>\n",
       "      <th>1018</th>\n",
       "      <td>4</td>\n",
       "    </tr>\n",
       "    <tr>\n",
       "      <th>1019</th>\n",
       "      <td>4</td>\n",
       "    </tr>\n",
       "    <tr>\n",
       "      <th>1020</th>\n",
       "      <td>4</td>\n",
       "    </tr>\n",
       "  </tbody>\n",
       "</table>\n",
       "<p>237422 rows × 1 columns</p>\n",
       "</div>"
      ],
      "text/plain": [
       "      annotation\n",
       "0              2\n",
       "1              2\n",
       "2              2\n",
       "3              2\n",
       "4              2\n",
       "...          ...\n",
       "1016           4\n",
       "1017           4\n",
       "1018           4\n",
       "1019           4\n",
       "1020           4\n",
       "\n",
       "[237422 rows x 1 columns]"
      ]
     },
     "execution_count": 8,
     "metadata": {},
     "output_type": "execute_result"
    }
   ],
   "source": [
    "df_ann = pd.DataFrame(data_test['annotation'])\n",
    "df_ann"
   ]
  },
  {
   "cell_type": "code",
   "execution_count": null,
   "metadata": {},
   "outputs": [],
   "source": [
    "df_eeg = pd.DataFrame(data_test['EEG_Fpz-Cz_uV'].tolist())\n",
    "df_eeg "
   ]
  },
  {
   "cell_type": "code",
   "execution_count": null,
   "metadata": {},
   "outputs": [],
   "source": [
    "data = df_ann.reset_index(drop=True).merge(df_eeg.reset_index(drop=True), left_index=True, right_index=True)\n",
    "data"
   ]
  },
  {
   "cell_type": "code",
   "execution_count": null,
   "metadata": {},
   "outputs": [],
   "source": [
    "# data = df_ann.append(df_eeg)\n",
    "print(df_ann.shape)\n",
    "print(df_eeg.shape)\n",
    "# pd.concat([df_ann, df_eeg], axis=1) ## direct concat can't work; need to reset index as above cell does"
   ]
  },
  {
   "cell_type": "code",
   "execution_count": null,
   "metadata": {},
   "outputs": [],
   "source": [
    "# df1 = data[data['annotation'] == 4].iloc[::2] ## this line was there to remove every other 'w' stage data but later on there wasn't need to do that since the spark took care of that \n",
    "# df1 = data\n",
    "# data_bal = data.drop(df1.index)## this line was there to remove every other 'w' stage data but later on there wasn't need to do that since the spark took care of that \n",
    "data_bal = data"
   ]
  },
  {
   "cell_type": "code",
   "execution_count": null,
   "metadata": {},
   "outputs": [],
   "source": [
    "# df1 ##every other \"annotation = W or 4\", which is going to be deleted; not applicable in full dataset now"
   ]
  },
  {
   "cell_type": "code",
   "execution_count": null,
   "metadata": {
    "scrolled": true
   },
   "outputs": [],
   "source": [
    "data_bal"
   ]
  },
  {
   "cell_type": "code",
   "execution_count": null,
   "metadata": {},
   "outputs": [],
   "source": [
    "#group the annotation counts to find the classes from balanced dataset\n",
    "\n",
    "data_bal.groupby(['annotation']).agg(['count'])"
   ]
  },
  {
   "cell_type": "code",
   "execution_count": null,
   "metadata": {},
   "outputs": [],
   "source": [
    "data_bal.info()"
   ]
  },
  {
   "cell_type": "code",
   "execution_count": null,
   "metadata": {},
   "outputs": [],
   "source": [
    "data.info()"
   ]
  },
  {
   "cell_type": "code",
   "execution_count": null,
   "metadata": {},
   "outputs": [],
   "source": [
    "data.isna().sum()"
   ]
  },
  {
   "cell_type": "markdown",
   "metadata": {},
   "source": [
    "# Exploratory data analysis starts here"
   ]
  },
  {
   "cell_type": "markdown",
   "metadata": {},
   "source": [
    "##1 univariate analysis:  analysis of single feature"
   ]
  },
  {
   "cell_type": "code",
   "execution_count": null,
   "metadata": {},
   "outputs": [],
   "source": [
    "##annotation values\n",
    "\n",
    "plt.rcParams[\"axes.labelsize\"] = 25\n",
    "\n",
    "values = pd.DataFrame({'stages': ['NA','R', 'N1', 'N2', 'N3', 'W']})\n",
    "\n",
    "ax = sns.distplot(data[\"annotation\"], color = \"red\");\n",
    "\n",
    "ax.set(xlabel = 'Sleep Stages', ylabel = 'Data Density')\n",
    "\n",
    "ax.set_xticklabels(values['stages'], fontsize=20)"
   ]
  },
  {
   "cell_type": "code",
   "execution_count": null,
   "metadata": {},
   "outputs": [],
   "source": [
    "##annotation values from the balanced dataset\n",
    "plt.rcParams[\"axes.labelsize\"] = 25\n",
    "\n",
    "values = pd.DataFrame({'stages': ['NA','R', 'N1', 'N2', 'N3', 'W']})\n",
    "\n",
    "ax = sns.distplot(data[\"annotation\"], color = \"green\");\n",
    "\n",
    "ax.set(xlabel = 'Sleep Stages', ylabel = 'Data Density')\n",
    "\n",
    "ax.set_xticklabels(values['stages'], fontsize=25)"
   ]
  },
  {
   "cell_type": "code",
   "execution_count": null,
   "metadata": {},
   "outputs": [],
   "source": [
    "##EEG sleep signals\n",
    "\n",
    "ax = sns.distplot(data[0:2999], color = \"pink\");\n",
    "\n",
    "ax.set(xlabel = 'Sleep Stage Data Values', ylabel = 'Data Density')"
   ]
  },
  {
   "cell_type": "code",
   "execution_count": null,
   "metadata": {},
   "outputs": [],
   "source": [
    "##EEG sleep signals from balanced dataset\n",
    "\n",
    "ax = sns.distplot(data_bal[0:2999], color = \"blue\");\n",
    "\n",
    "ax.set(xlabel = 'Sleep Stage Data Values', ylabel = 'Data Density')"
   ]
  },
  {
   "cell_type": "code",
   "execution_count": null,
   "metadata": {},
   "outputs": [],
   "source": [
    "# Try histogram for \n",
    "\n",
    "plt.hist(data_bal['annotation'], color = 'blue')"
   ]
  },
  {
   "cell_type": "markdown",
   "metadata": {},
   "source": [
    "# Covarience matrix"
   ]
  },
  {
   "cell_type": "code",
   "execution_count": null,
   "metadata": {},
   "outputs": [],
   "source": [
    "cov = data_bal.cov().transpose()\n",
    "cov"
   ]
  },
  {
   "cell_type": "markdown",
   "metadata": {},
   "source": [
    "# Starting Feature Engineering"
   ]
  },
  {
   "cell_type": "code",
   "execution_count": null,
   "metadata": {},
   "outputs": [],
   "source": [
    "# X = data_bal[0:2999]\n",
    "# X = data_bal[[0,1,2,3,4,5]]\n",
    "X = data_bal.iloc[:, 1:3001]\n",
    "y = data_bal[[\"annotation\"]]\n",
    "\n",
    "X_train, X_test, y_train, y_test = train_test_split(X, y, random_state = 42)\n",
    "\n"
   ]
  },
  {
   "cell_type": "code",
   "execution_count": null,
   "metadata": {},
   "outputs": [],
   "source": [
    "\n",
    "lr = LogisticRegression(solver = 'lbfgs')\n",
    "\n",
    "lr.fit(X_train, y_train)"
   ]
  },
  {
   "cell_type": "code",
   "execution_count": null,
   "metadata": {},
   "outputs": [],
   "source": [
    "lr.score(X_test, y_test)"
   ]
  },
  {
   "cell_type": "markdown",
   "metadata": {},
   "source": [
    "## Conclusion of logistic regression with all input variables"
   ]
  },
  {
   "cell_type": "markdown",
   "metadata": {},
   "source": [
    "The accuracy is really low, therefore, it's better to use other models. "
   ]
  },
  {
   "cell_type": "markdown",
   "metadata": {},
   "source": [
    "# Applying Linear Discriminant Analysis"
   ]
  },
  {
   "cell_type": "code",
   "execution_count": null,
   "metadata": {},
   "outputs": [],
   "source": [
    "X = data_bal.iloc[:, 1:3001]\n",
    "y = data_bal[[\"annotation\"]]\n",
    "\n",
    "X_train, X_test, y_train, y_test = train_test_split(X, y, random_state = 42)"
   ]
  },
  {
   "cell_type": "code",
   "execution_count": null,
   "metadata": {},
   "outputs": [],
   "source": [
    "lda = LinearDiscriminantAnalysis()"
   ]
  },
  {
   "cell_type": "code",
   "execution_count": null,
   "metadata": {},
   "outputs": [],
   "source": [
    "lda.fit(X_train, y_train)\n",
    "lda.score(X_test, y_test)"
   ]
  },
  {
   "cell_type": "code",
   "execution_count": null,
   "metadata": {},
   "outputs": [],
   "source": [
    "## ALL EVALUATION MATRIX AND ACCURACY SCORES for LDA model\n",
    "from sklearn.metrics import multilabel_confusion_matrix\n",
    "from sklearn.metrics import ConfusionMatrixDisplay\n",
    "from sklearn.metrics import precision_score\n",
    "from sklearn.metrics import recall_score\n",
    "from sklearn.metrics import f1_score\n",
    "from sklearn.metrics import cohen_kappa_score\n",
    "\n",
    "y_pred = lda.predict(X_test)\n",
    "\n",
    "# Find all accuracy scores\n",
    "\n",
    "acc = accuracy_score(y_test, y_pred)\n",
    "per_class_percision = precision_score(y_test, y_pred, average=None) # average='None' to return per-class percision\n",
    "per_class_recall = recall_score(y_test, y_pred, average=None)\n",
    "average_f1 = f1_score(y_test, y_pred, average='macro')\n",
    "per_class_f1 = f1_score(y_test, y_pred, average=None)\n",
    "kappa = cohen_kappa_score(y_test, y_pred)\n",
    "\n",
    "\n",
    "# plot the graph where we modify the font size along the axis of the not only the title but data values too and change one data values to other\n",
    "\n",
    "target_names = ['R', 'N1', 'N2', 'N3/N4', 'W']\n",
    "labels_names = [0,1,2,3, 4] \n",
    "\n",
    "cm = confusion_matrix(y_test, y_pred, labels = labels_names)\n",
    "disp = ConfusionMatrixDisplay(confusion_matrix=cm,display_labels=target_names)\n",
    "disp = disp.plot(cmap=plt.cm.Blues,values_format='g')\n",
    "plt.show()\n",
    "report = classification_report(y_test, y_pred, labels=labels_names, target_names=target_names)\n",
    "\n",
    "print(f\"***************ACCURACY SCORE etc USING LDA ALGORITHM*************************\")\n",
    "print(f\"\\n accuracy_score: {acc}\")\n",
    "print(f\"\\n average_f1: {average_f1}\")\n",
    "print(f\"\\n cohen_kappa_score: {kappa}\")\n",
    "print(f\"\\n confusion_matrix:\\n {cm}\")\n",
    "print(f\"\\n Classification Report: {report}\")\n",
    "print(\"\\n y_test\", y_test[:10])\n",
    "print(\"\\n y_pred-> Predicted values of some sample epochs\", y_pred[:10])"
   ]
  },
  {
   "cell_type": "markdown",
   "metadata": {},
   "source": [
    "## Conclusion of LDA "
   ]
  },
  {
   "cell_type": "markdown",
   "metadata": {},
   "source": [
    "LDA accuracy is better than logistic regression but still well below the current state of the art."
   ]
  },
  {
   "cell_type": "markdown",
   "metadata": {},
   "source": [
    "# Quadratic Discriminant Analysis"
   ]
  },
  {
   "cell_type": "code",
   "execution_count": null,
   "metadata": {},
   "outputs": [],
   "source": [
    "X = data_bal.iloc[:, 1:3001]\n",
    "y = data_bal[[\"annotation\"]]\n",
    "\n",
    "X_train, X_test, y_train, y_test = train_test_split(X, y, random_state = 42)"
   ]
  },
  {
   "cell_type": "code",
   "execution_count": null,
   "metadata": {},
   "outputs": [],
   "source": [
    "qda = QuadraticDiscriminantAnalysis()"
   ]
  },
  {
   "cell_type": "code",
   "execution_count": null,
   "metadata": {},
   "outputs": [],
   "source": [
    "qda.fit(X_train, y_train)\n",
    "qda.score(X_test, y_test)"
   ]
  },
  {
   "cell_type": "code",
   "execution_count": null,
   "metadata": {},
   "outputs": [],
   "source": [
    "## ALL EVALUATION MATRIX AND ACCURACY SCORES for LDA model\n",
    "from sklearn.metrics import multilabel_confusion_matrix\n",
    "from sklearn.metrics import ConfusionMatrixDisplay\n",
    "from sklearn.metrics import precision_score\n",
    "from sklearn.metrics import recall_score\n",
    "from sklearn.metrics import f1_score\n",
    "from sklearn.metrics import cohen_kappa_score\n",
    "\n",
    "y_pred = qda.predict(X_test)\n",
    "\n",
    "# Find all accuracy scores\n",
    "\n",
    "acc = accuracy_score(y_test, y_pred)\n",
    "per_class_percision = precision_score(y_test, y_pred, average=None) # average='None' to return per-class percision\n",
    "per_class_recall = recall_score(y_test, y_pred, average=None)\n",
    "average_f1 = f1_score(y_test, y_pred, average='macro')\n",
    "per_class_f1 = f1_score(y_test, y_pred, average=None)\n",
    "kappa = cohen_kappa_score(y_test, y_pred)\n",
    "\n",
    "\n",
    "# plot the graph where we modify the font size along the axis of the not only the title but data values too and change one data values to other\n",
    "\n",
    "target_names = ['R', 'N1', 'N2', 'N3/N4', 'W']\n",
    "labels_names = [0,1,2,3, 4] \n",
    "\n",
    "cm = confusion_matrix(y_test, y_pred, labels = labels_names)\n",
    "disp = ConfusionMatrixDisplay(confusion_matrix=cm,display_labels=target_names)\n",
    "disp = disp.plot(cmap=plt.cm.Blues,values_format='g')\n",
    "plt.show()\n",
    "report = classification_report(y_test, y_pred, labels=labels_names, target_names=target_names)\n",
    "\n",
    "\n",
    "print(f\"***************ACCURACY SCORE etc USING QDA ALGORITHM*************************\")\n",
    "print(f\"\\n accuracy_score: {acc}\")\n",
    "print(f\"\\n average_f1: {average_f1}\")\n",
    "print(f\"\\n cohen_kappa_score: {kappa}\")\n",
    "print(f\"\\n confusion_matrix:\\n {cm}\")\n",
    "print(f\"\\n Classification Report: {report}\")\n",
    "print(\"\\n y_test\", y_test[:10])\n",
    "print(\"\\n y_pred-> Predicted values of some sample epochs\", y_pred[:10])"
   ]
  },
  {
   "cell_type": "markdown",
   "metadata": {},
   "source": [
    "## Conclusion of QDA "
   ]
  },
  {
   "cell_type": "markdown",
   "metadata": {},
   "source": [
    "QDA accuracy is much better than logistic regression and LDA."
   ]
  }
 ],
 "metadata": {
  "kernelspec": {
   "display_name": "Python 3",
   "language": "python",
   "name": "python3"
  },
  "language_info": {
   "codemirror_mode": {
    "name": "ipython",
    "version": 3
   },
   "file_extension": ".py",
   "mimetype": "text/x-python",
   "name": "python",
   "nbconvert_exporter": "python",
   "pygments_lexer": "ipython3",
   "version": "3.7.3"
  }
 },
 "nbformat": 4,
 "nbformat_minor": 2
}
